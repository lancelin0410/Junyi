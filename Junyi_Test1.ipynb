{
 "cells": [
  {
   "cell_type": "markdown",
   "metadata": {},
   "source": [
    "1. \n",
    "（A）請寫一個程式把裡面的字串反過來。 \n",
    "（B）請寫一個程式把裡面的字串，每個單字本身做反轉，但是單字的順序不變。 舉例 \n",
    " \n",
    " f(\"junyiacademy\") == \"ymedacaiynuj\"  \n",
    " f(\"flipped class room is important\") == \"deppilf ssalc moor si tnatropmi\" "
   ]
  },
  {
   "cell_type": "code",
   "execution_count": 13,
   "metadata": {},
   "outputs": [],
   "source": [
    "def f(text):\n",
    "    text_list_r = []\n",
    "    text_list = text.split(\" \")\n",
    "    for t in text_list:\n",
    "        text_list_r.append(t[::-1])\n",
    "    return \" \".join(text_list_r)"
   ]
  },
  {
   "cell_type": "code",
   "execution_count": 15,
   "metadata": {},
   "outputs": [
    {
     "name": "stdout",
     "output_type": "stream",
     "text": [
      "請輸入字串： flipped class room is important\n",
      "f(\" flipped class room is important \") == \" deppilf ssalc moor si tnatropmi \"\n"
     ]
    }
   ],
   "source": [
    "text = input(\"請輸入字串： \")\n",
    "print('f(\"', text, '\") == \"', f(text), '\"')\n",
    "# print(f(\"junyiacademy\"))\n",
    "# print(f(\"flipped class room is important\") )"
   ]
  },
  {
   "cell_type": "markdown",
   "metadata": {},
   "source": [
    "2. \n",
    "請寫一個程式，Input 是一個數字，Output 是從 1 到這個數字，扣除掉所有 3 的 倍數以及 5 的倍數，但是需要保留同時是 3 和 5 的倍數的總數字數。 \n",
    " \n",
    "舉例 \n",
    "Input：15 所有的數字是：1, 2, 3, 4, 5, 6, 7, 8, 9, 10, 11, 12, 13, 14, 15  \n",
    "其中 3, 6, 9, 12 被剔除；5, 10 被剔除；但是 15 被保留  \n",
    "所以剩下來的數字是 1, 2, 4, 7, 8, 11, 13, 14, 15，因此 Output：9  "
   ]
  },
  {
   "cell_type": "code",
   "execution_count": 19,
   "metadata": {},
   "outputs": [
    {
     "name": "stdout",
     "output_type": "stream",
     "text": [
      "Input:15\n",
      "所有的數字是： 1, 2, 3, 4, 5, 6, 7, 8, 9, 10, 11, 12, 13, 14, 15\n",
      "其中  3, 6, 9, 12 被剔除; 5, 10 被剔除; 但是 15 被保留\n",
      "所以剩下來的數字是  1, 2, 4, 7, 8, 11, 13, 14, 15 ，因此 Output： 9\n"
     ]
    }
   ],
   "source": [
    "input_num = int(input(\"Input:\"))\n",
    "list_o = []\n",
    "list_3 = []\n",
    "list_5 = []\n",
    "list_15 = []\n",
    "list_f = []\n",
    "\n",
    "for n in range(1, input_num+1):\n",
    "    list_o.append(str(n))\n",
    "    if n%15 == 0:\n",
    "        list_15.append(str(n))\n",
    "    elif n%3 == 0:\n",
    "        list_3.append(str(n))\n",
    "    elif n%5 == 0:\n",
    "        list_5.append(str(n))\n",
    "    if n%3!=0 and n%5!=0 or n%15==0:\n",
    "        list_f.append(str(n))\n",
    "print(\"所有的數字是：\", \", \".join(list_o))\n",
    "print(\"其中 \", \", \".join(list_3), \"被剔除;\", \", \".join(list_5), \"被剔除;\", \"但是\", \", \".join(list_15), \"被保留\")\n",
    "print(\"所以剩下來的數字是 \", \", \".join(list_f), \"，因此 Output：\", len(list_f))"
   ]
  },
  {
   "cell_type": "markdown",
   "metadata": {},
   "source": [
    "3. \n",
    "房間裡有三個袋子，一個只裝鉛筆，一個只裝原子筆，第三個有鉛筆也有原子筆。  \n",
    "袋子是不透明的，單從袋子的外表上看不出任何差異，你不知道哪個袋子裝什麼。 除了袋子上各貼了一個標示（\"鉛筆\"、\"原子筆\"、\"混和\"），且標示都是錯的 （e.g. 標示鉛筆的袋子可能是混和的或是只裝原子筆）。  \n",
    "你只能選一個袋子，拿出裡面一支筆，看是鉛筆還是原子筆，然後你要推論出這三個袋子分別的情況。請列出你的作法，以及解釋為什麼這樣可以找到答案。"
   ]
  },
  {
   "cell_type": "markdown",
   "metadata": {},
   "source": [
    "![image](https://github.com/lancelin0410/Junyi/blob/master/4%20%E5%9C%96%E8%A7%A3.png?raw=true)\n",
    "根據題意所示，標示都是錯誤的，所以每個袋子只有標示之外的兩種可能，即標示\"鉛筆\"的內容物為原子筆或混合；標示\"原子筆\"的內容物為鉛筆或混合；標示\"混合\"的內容物為鉛筆或原子筆。  \n",
    "由於標示\"鉛筆\"或\"原子筆\"的內容物均有可能為混合，故選擇標示\"混合\"的袋子，當抽出為鉛筆時，可推斷標示\"鉛筆\"的內容物為原子筆，而標示\"原子筆\"的內容物為混合；而抽出為原子筆時，則標示\"原子筆\"的內容物為鉛筆，而標示\"鉛筆\"的內容物為混合。"
   ]
  },
  {
   "cell_type": "markdown",
   "metadata": {},
   "source": [
    "4. \n",
    "有三個人一起到迪士尼遊玩，中午肚子餓了，去餐廳點了一份現在最夯的冰雪奇緣 雙人組，要價 900 元，付錢後，服務生發現今天套餐大特價，只要 750 元，因此 服務生應該退還 150 元給這三個人，但是這位服務生一時鬼迷心竅，決定暗槓 60 元，只退了 90 元給這三個遊客。  \n",
    "那麼：三人各出 300 元 - 服務生還給他們一人 30 元 = 三人各出 270 元。270 元 × 3 人+ 服務生私吞的 60 元 = 810 + 60 = 870 !? 怎麼不是 900 元呢？還有 30 元去哪了呢？請用敘述的方式，儘量清楚解釋問題出在哪裡。 "
   ]
  },
  {
   "cell_type": "markdown",
   "metadata": {},
   "source": [
    "![image](https://github.com/lancelin0410/Junyi/blob/master/5%20%E5%9C%96%E8%A7%A3.png?raw=true)\n",
    "應該給付的金額為750元，實際支付的金額為810元，中間的差額即是被服務生私吞的60元，是包含在已支付金額之內。  \n",
    "而找回的90元為未支付的，810元和90元兩者相加才是原來付錢時的總額900元。"
   ]
  },
  {
   "cell_type": "code",
   "execution_count": null,
   "metadata": {},
   "outputs": [],
   "source": []
  }
 ],
 "metadata": {
  "kernelspec": {
   "display_name": "Python 3",
   "language": "python",
   "name": "python3"
  },
  "language_info": {
   "codemirror_mode": {
    "name": "ipython",
    "version": 3
   },
   "file_extension": ".py",
   "mimetype": "text/x-python",
   "name": "python",
   "nbconvert_exporter": "python",
   "pygments_lexer": "ipython3",
   "version": "3.7.5"
  }
 },
 "nbformat": 4,
 "nbformat_minor": 2
}
